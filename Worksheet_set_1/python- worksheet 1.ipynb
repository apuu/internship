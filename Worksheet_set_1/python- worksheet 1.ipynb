{
 "cells": [
  {
   "cell_type": "markdown",
   "id": "dbfe88ff",
   "metadata": {},
   "source": [
    "Q1 to Q8 have only one correct answer. Choose the correct option to answer your question \n",
    "\n",
    "1. Which of the following operators is used to calculate remainder in a division?\n",
    "ans > (c) % \n",
    "\n",
    "2 . In python 2//3 is equal to?\n",
    "ans> is (B) 0 if its just dividion and 0.666 in float condition \n",
    "\n",
    "3. In python, 6<<2 is equal to?\n",
    "ans > 24 \n",
    "\n",
    "4. In python, 6&2 will give which of the following as output?\n",
    "ans> 2\n",
    "\n",
    "5. In python, 6|2 will give which of the following as output?\n",
    "ans>  6 \n",
    "\n",
    "6. What does the finally keyword denotes in python? \n",
    "ans > B) It encloses the lines of code which will be executed if any error occurs while executing the lines of code in the try block.\n",
    "\n",
    "7. What does raise keyword is used for in python?\n",
    "ans > A) It is used to raise an exception.\n",
    "\n",
    "\n",
    "8. Which of the following is a common use case of yield keyword in python?\n",
    "ans > C) in defining a generator\n",
    "\n",
    "\n",
    "Q9 and Q10 have multiple correct answers. Choose all the correct options to answer your question.\n",
    "\n",
    "9. Which of the following are the valid variable names?\n",
    "ans is > A) _abc \n",
    "         C) abc2\n",
    "\n",
    "\n",
    "10. Which of the following are the keywords in python?\n",
    " ans  is  > A) yield\n",
    "            B) raise\n"
   ]
  },
  {
   "cell_type": "code",
   "execution_count": 7,
   "id": "2b30c5bc",
   "metadata": {},
   "outputs": [
    {
     "name": "stdout",
     "output_type": "stream",
     "text": [
      "['False', 'None', 'True', 'and', 'as', 'assert', 'async', 'await', 'break', 'class', 'continue', 'def', 'del', 'elif', 'else', 'except', 'finally', 'for', 'from', 'global', 'if', 'import', 'in', 'is', 'lambda', 'nonlocal', 'not', 'or', 'pass', 'raise', 'return', 'try', 'while', 'with', 'yield']\n"
     ]
    }
   ],
   "source": [
    "import keyword\n",
    "print(keyword.kwlist)"
   ]
  },
  {
   "cell_type": "code",
   "execution_count": 8,
   "id": "ecbe57d3",
   "metadata": {},
   "outputs": [
    {
     "name": "stdout",
     "output_type": "stream",
     "text": [
      "factorial number of 7 is 5040\n"
     ]
    }
   ],
   "source": [
    "# 11. Write a python program to find the factorial of a number.\n",
    "\n",
    "def factorial(n):\n",
    "    if  n == 0:\n",
    "        return 1 \n",
    "    else:\n",
    "        return n * factorial(n-1)\n",
    "    \n",
    "num = 7\n",
    "print(f\"factorial number of {num} is {factorial(num)}\")"
   ]
  },
  {
   "cell_type": "code",
   "execution_count": 13,
   "id": "8fbac91e",
   "metadata": {},
   "outputs": [
    {
     "name": "stdout",
     "output_type": "stream",
     "text": [
      "117 is a composite number\n"
     ]
    }
   ],
   "source": [
    "# 12. Write a python program to find whether a number is prime or composite.\n",
    "\n",
    "def its_prime_or_composite(n):\n",
    "    if n < 2:\n",
    "        return False\n",
    "    for i in range(2, int(n ** 0.5) + 1):\n",
    "        if n % i == 0:\n",
    "            return False\n",
    "    return True\n",
    "\n",
    "num = 117\n",
    "if its_prime_or_composite(num):\n",
    "    print(f\"{num} is a prime number\")\n",
    "else:\n",
    "    print(f\"{num} is a composite number\")\n"
   ]
  },
  {
   "cell_type": "code",
   "execution_count": null,
   "id": "d5014bf4",
   "metadata": {},
   "outputs": [],
   "source": [
    "# 13. Write a python program to check whether a given string is palindrome or not.\n",
    "#palindrome is \n",
    "\n"
   ]
  },
  {
   "cell_type": "code",
   "execution_count": 16,
   "id": "0ca28d90",
   "metadata": {},
   "outputs": [
    {
     "name": "stdout",
     "output_type": "stream",
     "text": [
      "Hypotenuse = 5.0\n",
      "Adjacent = 4.0\n",
      "Opposite = 3.0\n",
      "anser is above\n"
     ]
    }
   ],
   "source": [
    "# 14. Write a Python program to get the third side of right-angled triangle from two given sides.\n",
    "\n",
    "\n",
    "def pythagoras(oppo_side, adja_side, hypotenuse):\n",
    "   \n",
    "    if oppo_side == str(\"x\"):\n",
    "        return (\"Opposite = \" + str(((hypotenuse**2) - (adja_side**2))**0.5))\n",
    "  \n",
    "    elif adja_side == str(\"x\"):\n",
    "        return (\"Adjacent = \" + str(((hypotenuse**2) - (oppo_side**2))**0.5))\n",
    "   \n",
    "    elif hypotenuse == str(\"x\"):\n",
    "        return (\"Hypotenuse = \" + str(((oppo_side**2) + (adja_side**2))**0.5))\n",
    "    else:\n",
    "        return \"anser is above\"\n",
    "\n",
    "\n",
    "print(pythagoras(3, 4, 'x'))\n",
    "print(pythagoras(3, 'x', 5))\n",
    "print(pythagoras('x', 4, 5))\n",
    "print(pythagoras(3, 4, 5))\n"
   ]
  },
  {
   "cell_type": "code",
   "execution_count": 18,
   "id": "337b71b8",
   "metadata": {},
   "outputs": [
    {
     "name": "stdout",
     "output_type": "stream",
     "text": [
      "Count of all characters python is supercool is :\n",
      " {'p': 2, 'y': 1, 't': 1, 'h': 1, 'o': 3, 'n': 1, ' ': 2, 'i': 1, 's': 2, 'u': 1, 'e': 1, 'r': 1, 'c': 1, 'l': 1}\n"
     ]
    }
   ],
   "source": [
    "# 15. Write a python program to print the frequency of each of the characters present in a given string.\n",
    "\n",
    "\n",
    "# initializing string\n",
    "words_freqn = \"python is supercool\"\n",
    "\n",
    "all_freq = {}\n",
    "\n",
    "for i in words_freqn:\n",
    "    if i in all_freq:\n",
    "        all_freq[i] +=1\n",
    "    else:\n",
    "        all_freq[i] = 1\n",
    "\n",
    "\n",
    "\n",
    "# printing result\n",
    "print(\"Count of all characters python is supercool is :\\n \" + str(all_freq))\n"
   ]
  },
  {
   "cell_type": "code",
   "execution_count": null,
   "id": "c64d3e1c",
   "metadata": {},
   "outputs": [],
   "source": []
  }
 ],
 "metadata": {
  "kernelspec": {
   "display_name": "Python 3 (ipykernel)",
   "language": "python",
   "name": "python3"
  },
  "language_info": {
   "codemirror_mode": {
    "name": "ipython",
    "version": 3
   },
   "file_extension": ".py",
   "mimetype": "text/x-python",
   "name": "python",
   "nbconvert_exporter": "python",
   "pygments_lexer": "ipython3",
   "version": "3.11.4"
  }
 },
 "nbformat": 4,
 "nbformat_minor": 5
}
