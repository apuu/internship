{
 "cells": [
  {
   "cell_type": "code",
   "execution_count": null,
   "id": "ef0e8305",
   "metadata": {},
   "outputs": [],
   "source": [
    "#1 What will be the output of the following code snippet?"
   ]
  },
  {
   "cell_type": "code",
   "execution_count": 2,
   "id": "5a38fd71",
   "metadata": {},
   "outputs": [
    {
     "name": "stdout",
     "output_type": "stream",
     "text": [
      "15\n"
     ]
    }
   ],
   "source": [
    "def func(a,b):\n",
    "    return b if a ==0 else func(b%a,a)\n",
    "print(func(30,75))"
   ]
  },
  {
   "cell_type": "markdown",
   "id": "1b88eb98",
   "metadata": {},
   "source": [
    "answer is >15"
   ]
  },
  {
   "cell_type": "code",
   "execution_count": null,
   "id": "00642c14",
   "metadata": {},
   "outputs": [],
   "source": [
    "# 2 numbers = (4, 7, 19, 2, 89, 45, 72, 22)"
   ]
  },
  {
   "cell_type": "code",
   "execution_count": 3,
   "id": "76faea73",
   "metadata": {},
   "outputs": [
    {
     "name": "stdout",
     "output_type": "stream",
     "text": [
      "<class 'filter'>\n"
     ]
    }
   ],
   "source": [
    "numbers = (4, 7, 19, 2, 89, 45, 72, 22)\n",
    "sorted_numbers = sorted(numbers)\n",
    "even = lambda a: a % 2 == 0\n",
    "even_numbers = filter(even, sorted_numbers)\n",
    "print(type(even_numbers))\n"
   ]
  },
  {
   "cell_type": "markdown",
   "id": "a33ed9c7",
   "metadata": {},
   "source": [
    "answer is>  Filter"
   ]
  },
  {
   "cell_type": "code",
   "execution_count": 4,
   "id": "2d5a5884",
   "metadata": {},
   "outputs": [],
   "source": [
    "# 3) As what datatype are the *args stored, when passed into"
   ]
  },
  {
   "cell_type": "markdown",
   "id": "5404eaf1",
   "metadata": {},
   "source": [
    "Anser is > b) TUPLE"
   ]
  },
  {
   "cell_type": "raw",
   "id": "5d8167b2",
   "metadata": {},
   "source": [
    "question 4 "
   ]
  },
  {
   "cell_type": "code",
   "execution_count": 7,
   "id": "73b98a55",
   "metadata": {},
   "outputs": [
    {
     "ename": "TypeError",
     "evalue": "unsupported operand type(s) for +: 'set' and 'set'",
     "output_type": "error",
     "traceback": [
      "\u001b[1;31m---------------------------------------------------------------------------\u001b[0m",
      "\u001b[1;31mTypeError\u001b[0m                                 Traceback (most recent call last)",
      "Cell \u001b[1;32mIn[7], line 5\u001b[0m\n\u001b[0;32m      2\u001b[0m set2 \u001b[38;5;241m=\u001b[39m {\u001b[38;5;241m82\u001b[39m,\u001b[38;5;241m49\u001b[39m,\u001b[38;5;241m62\u001b[39m}\n\u001b[0;32m      3\u001b[0m set3 \u001b[38;5;241m=\u001b[39m {\u001b[38;5;241m99\u001b[39m,\u001b[38;5;241m22\u001b[39m,\u001b[38;5;241m17\u001b[39m}\n\u001b[1;32m----> 5\u001b[0m \u001b[38;5;28mprint\u001b[39m(\u001b[38;5;28mlen\u001b[39m(set1\u001b[38;5;241m+\u001b[39mset2\u001b[38;5;241m+\u001b[39mset3))\n",
      "\u001b[1;31mTypeError\u001b[0m: unsupported operand type(s) for +: 'set' and 'set'"
     ]
    }
   ],
   "source": [
    "set1 = {14,3,55}\n",
    "set2 = {82,49,62}\n",
    "set3 = {99,22,17}\n",
    "\n",
    "print(len(set1+set2+set3))"
   ]
  },
  {
   "cell_type": "markdown",
   "id": "0f49da4e",
   "metadata": {},
   "source": [
    "answer is > d) Error"
   ]
  },
  {
   "cell_type": "code",
   "execution_count": 8,
   "id": "874afbdd",
   "metadata": {},
   "outputs": [],
   "source": [
    "# 5) What keyword is used in Python to raise exceptions?\n"
   ]
  },
  {
   "cell_type": "markdown",
   "id": "8935504a",
   "metadata": {},
   "source": [
    "answer is > a) raise"
   ]
  },
  {
   "cell_type": "code",
   "execution_count": 9,
   "id": "dc4c4f0c",
   "metadata": {},
   "outputs": [],
   "source": [
    "# 6) Which of the following modules need to be imported to handle date time computations in Python?"
   ]
  },
  {
   "cell_type": "markdown",
   "id": "be4f06eb",
   "metadata": {},
   "source": [
    "answer is > c)datetime"
   ]
  },
  {
   "cell_type": "code",
   "execution_count": 10,
   "id": "7f4870a5",
   "metadata": {},
   "outputs": [],
   "source": [
    "# 7) What will be the output of the following code snippet?"
   ]
  },
  {
   "cell_type": "code",
   "execution_count": 11,
   "id": "bfb2ffa9",
   "metadata": {},
   "outputs": [
    {
     "name": "stdout",
     "output_type": "stream",
     "text": [
      "208\n"
     ]
    }
   ],
   "source": [
    "print(4**3 + (7 + 5)**(1 + 1))"
   ]
  },
  {
   "cell_type": "markdown",
   "id": "970927be",
   "metadata": {},
   "source": [
    "answer is > c)208"
   ]
  },
  {
   "cell_type": "code",
   "execution_count": 12,
   "id": "c3b86c2c",
   "metadata": {},
   "outputs": [],
   "source": [
    "# 8) Which of the following functions converts date to corresponding time in Python?"
   ]
  },
  {
   "cell_type": "markdown",
   "id": "5c1c433a",
   "metadata": {},
   "source": [
    "answer is > a) strptime"
   ]
  },
  {
   "cell_type": "code",
   "execution_count": 13,
   "id": "c9484e56",
   "metadata": {},
   "outputs": [],
   "source": [
    "# 9) The python tuple is _____ in nature."
   ]
  },
  {
   "cell_type": "markdown",
   "id": "30624223",
   "metadata": {},
   "source": [
    "answer is > b) immutable"
   ]
  },
  {
   "cell_type": "code",
   "execution_count": 14,
   "id": "726894e9",
   "metadata": {},
   "outputs": [],
   "source": [
    "#10) The ___ is a built-in function that returns a range object that consists series of integer numbers, which we can iterate using a for loop."
   ]
  },
  {
   "cell_type": "markdown",
   "id": "c49f2684",
   "metadata": {},
   "source": [
    "answer is > a) range"
   ]
  },
  {
   "cell_type": "code",
   "execution_count": 15,
   "id": "e5561028",
   "metadata": {},
   "outputs": [],
   "source": [
    "#11)amongst which of the following is a function which does not have any name?"
   ]
  },
  {
   "cell_type": "markdown",
   "id": "0bcd942d",
   "metadata": {},
   "source": [
    "answer is > c) lambda function"
   ]
  },
  {
   "cell_type": "code",
   "execution_count": 16,
   "id": "318f9192",
   "metadata": {},
   "outputs": [],
   "source": [
    "# 12)The module Pickle is used to ___"
   ]
  },
  {
   "cell_type": "markdown",
   "id": "6faea3f1",
   "metadata": {},
   "source": [
    "answer is > c) Both A and B"
   ]
  },
  {
   "cell_type": "code",
   "execution_count": 17,
   "id": "9a1363c7",
   "metadata": {},
   "outputs": [],
   "source": [
    "# 13) Amongst which of the following is / are the method of convert Python objects for writing data in a binary file?"
   ]
  },
  {
   "cell_type": "markdown",
   "id": "c4febc96",
   "metadata": {},
   "source": [
    "answer is > b) dump() method"
   ]
  },
  {
   "cell_type": "code",
   "execution_count": 18,
   "id": "fc9eb93f",
   "metadata": {},
   "outputs": [],
   "source": [
    "# 14) Amongst which of the following is / are the method used to unpickling data from a binary file?"
   ]
  },
  {
   "cell_type": "markdown",
   "id": "a9414b38",
   "metadata": {},
   "source": [
    "answer is > a) load()"
   ]
  },
  {
   "cell_type": "code",
   "execution_count": 19,
   "id": "9f30a96c",
   "metadata": {},
   "outputs": [],
   "source": [
    "# 15) A text file contains only textual information consisting of ___."
   ]
  },
  {
   "cell_type": "markdown",
   "id": "c3e3ca38",
   "metadata": {},
   "source": [
    "answer is > d) all od=f the mentioned above "
   ]
  },
  {
   "cell_type": "code",
   "execution_count": 21,
   "id": "aefe8c69",
   "metadata": {},
   "outputs": [],
   "source": [
    "# 16) Which Python code could replace the ellipsis (...) below to get the following output? (Select all that apply.)"
   ]
  },
  {
   "cell_type": "code",
   "execution_count": 22,
   "id": "482e3855",
   "metadata": {},
   "outputs": [
    {
     "name": "stdout",
     "output_type": "stream",
     "text": [
      " Enterprise Picard\n",
      "Voyager  Janeway\n",
      "Defiant Sisko\n"
     ]
    }
   ],
   "source": [
    "captains ={\n",
    "    \" Enterprise\":\"Picard\",\n",
    "    \"Voyager\": \" Janeway\",\n",
    "    \"Defiant\":\"Sisko\",\n",
    "}\n",
    "\n",
    "for ship,captain in captains.items():\n",
    "    print(ship,captain)"
   ]
  },
  {
   "cell_type": "code",
   "execution_count": 23,
   "id": "97c9d008",
   "metadata": {},
   "outputs": [
    {
     "name": "stdout",
     "output_type": "stream",
     "text": [
      " Enterprise Picard\n",
      "Voyager  Janeway\n",
      "Defiant Sisko\n"
     ]
    }
   ],
   "source": [
    "captains ={\n",
    "    \" Enterprise\":\"Picard\",\n",
    "    \"Voyager\": \" Janeway\",\n",
    "    \"Defiant\":\"Sisko\",\n",
    "}\n",
    "\n",
    "for ship in captains:\n",
    "    print(ship,captains[ship])"
   ]
  },
  {
   "cell_type": "code",
   "execution_count": 24,
   "id": "a378ffb8",
   "metadata": {},
   "outputs": [
    {
     "name": "stdout",
     "output_type": "stream",
     "text": [
      " Enterprise {' Enterprise': 'Picard', 'Voyager': ' Janeway', 'Defiant': 'Sisko'}\n",
      "Voyager {' Enterprise': 'Picard', 'Voyager': ' Janeway', 'Defiant': 'Sisko'}\n",
      "Defiant {' Enterprise': 'Picard', 'Voyager': ' Janeway', 'Defiant': 'Sisko'}\n"
     ]
    }
   ],
   "source": [
    "captains ={\n",
    "    \" Enterprise\":\"Picard\",\n",
    "    \"Voyager\": \" Janeway\",\n",
    "    \"Defiant\":\"Sisko\",\n",
    "}\n",
    "\n",
    "for ship in captains:\n",
    "    print(ship,captains)"
   ]
  },
  {
   "cell_type": "markdown",
   "id": "d4ef7c05",
   "metadata": {},
   "source": [
    "answer is > d) both a and b"
   ]
  },
  {
   "cell_type": "code",
   "execution_count": 25,
   "id": "b6c5097a",
   "metadata": {},
   "outputs": [],
   "source": [
    "#17 Which of the following lines of code will create an empty dictionary named captains?"
   ]
  },
  {
   "cell_type": "code",
   "execution_count": 28,
   "id": "77e0ce1f",
   "metadata": {},
   "outputs": [
    {
     "name": "stdout",
     "output_type": "stream",
     "text": [
      "{}\n"
     ]
    }
   ],
   "source": [
    "captains = {}\n",
    "print(captains)"
   ]
  },
  {
   "cell_type": "markdown",
   "id": "4c16e198",
   "metadata": {},
   "source": [
    "answer is > d) captains={}"
   ]
  },
  {
   "cell_type": "code",
   "execution_count": 30,
   "id": "6780169c",
   "metadata": {},
   "outputs": [],
   "source": [
    "# 18) Now you have your empty dictionary named captains. It’s time to add some data!\n",
    "\n",
    "# Specifically, you want to add the key-value pairs \"Enterprise\": \"Picard\", \"Voyager\": \"Janeway\", and \"Defiant\": \"Sisko\". Which of the following code snippets will successfully add these key-value pairs to the existing captains dictionary?"
   ]
  },
  {
   "cell_type": "code",
   "execution_count": 31,
   "id": "d6c2e5b5",
   "metadata": {},
   "outputs": [
    {
     "name": "stdout",
     "output_type": "stream",
     "text": [
      "{'Enterprise': 'Picard', 'Vovager': 'Janeway', 'Definant': 'Sisko'}\n"
     ]
    }
   ],
   "source": [
    "captains = { \n",
    "  \"Enterprise\":\"Picard\",\n",
    "  \"Vovager\":\"Janeway\",\n",
    "   \"Definant\":\"Sisko\",\n",
    "}\n",
    "print(captains)"
   ]
  },
  {
   "cell_type": "markdown",
   "id": "6636b17b",
   "metadata": {},
   "source": [
    "answer is > c)"
   ]
  },
  {
   "cell_type": "code",
   "execution_count": null,
   "id": "f07fa230",
   "metadata": {},
   "outputs": [],
   "source": [
    "#19 19 ) You’re really building out the Federation Starfleet now! Here’s what you have:"
   ]
  },
  {
   "cell_type": "code",
   "execution_count": 32,
   "id": "2dbd1ff7",
   "metadata": {},
   "outputs": [
    {
     "name": "stdout",
     "output_type": "stream",
     "text": [
      "ThePicard is captained by Enterprise.\n",
      "TheJaneway is captained by Vovager.\n",
      "TheSisko is captained by Definant.\n",
      "Theunknown is captained by Discovery.\n"
     ]
    }
   ],
   "source": [
    "captains = { \n",
    "  \"Enterprise\":\"Picard\",\n",
    "  \"Vovager\":\"Janeway\",\n",
    "   \"Definant\":\"Sisko\",\n",
    "    \"Discovery\":\"unknown\",\n",
    "}\n",
    "for captain,ship in captains.items():\n",
    "    print(f\"The{ship} is captained by {captain}.\")"
   ]
  },
  {
   "cell_type": "code",
   "execution_count": 35,
   "id": "0aee55aa",
   "metadata": {},
   "outputs": [
    {
     "name": "stdout",
     "output_type": "stream",
     "text": [
      "The Enterprise is captained by Picard.\n",
      "The Vovager is captained by Janeway.\n",
      "The Definant is captained by Sisko.\n",
      "The Discovery is captained by unknown.\n"
     ]
    }
   ],
   "source": [
    "captains = { \n",
    "  \"Enterprise\":\"Picard\",\n",
    "  \"Vovager\":\"Janeway\",\n",
    "   \"Definant\":\"Sisko\",\n",
    "    \"Discovery\":\"unknown\",\n",
    "}\n",
    "for ship,captain in captains.items():\n",
    "    print(f\"The {ship} is captained by {captain}.\")"
   ]
  },
  {
   "cell_type": "markdown",
   "id": "199d535b",
   "metadata": {},
   "source": [
    "answer is > b)"
   ]
  },
  {
   "cell_type": "code",
   "execution_count": 36,
   "id": "d7887ae3",
   "metadata": {},
   "outputs": [],
   "source": [
    "#20 ) You’ve created a dictionary, added data, checked for the existence of keys, and iterated over it with a for loop. Now you’re ready to delete a key from this dictionary:"
   ]
  },
  {
   "cell_type": "code",
   "execution_count": 37,
   "id": "26ecfeb5",
   "metadata": {},
   "outputs": [],
   "source": [
    "captains = { \n",
    "  \"Enterprise\":\"Picard\",\n",
    "  \"Vovager\":\"Janeway\",\n",
    "   \"Definant\":\"Sisko\",\n",
    "    \"Discovery\":\"unknown\",\n",
    "}\n",
    "del captains[\"Discovery\"]"
   ]
  },
  {
   "cell_type": "code",
   "execution_count": 38,
   "id": "02dcf9f5",
   "metadata": {},
   "outputs": [
    {
     "name": "stdout",
     "output_type": "stream",
     "text": [
      "{'Enterprise': 'Picard', 'Vovager': 'Janeway', 'Definant': 'Sisko'}\n"
     ]
    }
   ],
   "source": [
    "print(captains)"
   ]
  },
  {
   "cell_type": "code",
   "execution_count": 41,
   "id": "2f2d527b",
   "metadata": {},
   "outputs": [],
   "source": [
    "captains = { \n",
    "  \"Enterprise\":\"Picard\",\n",
    "  \"Vovager\":\"Janeway\",\n",
    "   \"Definant\":\"Sisko\",\n",
    "    \"Discovery\":\"unknown\",\n",
    "}\n",
    "\n",
    "del captains"
   ]
  },
  {
   "cell_type": "code",
   "execution_count": 42,
   "id": "26056e52",
   "metadata": {},
   "outputs": [
    {
     "ename": "NameError",
     "evalue": "name 'captains' is not defined",
     "output_type": "error",
     "traceback": [
      "\u001b[1;31m---------------------------------------------------------------------------\u001b[0m",
      "\u001b[1;31mNameError\u001b[0m                                 Traceback (most recent call last)",
      "Cell \u001b[1;32mIn[42], line 1\u001b[0m\n\u001b[1;32m----> 1\u001b[0m \u001b[38;5;28mprint\u001b[39m(captains)\n",
      "\u001b[1;31mNameError\u001b[0m: name 'captains' is not defined"
     ]
    }
   ],
   "source": [
    "print(captains)"
   ]
  },
  {
   "cell_type": "markdown",
   "id": "8e0e6098",
   "metadata": {},
   "source": [
    "answer is > c)"
   ]
  },
  {
   "cell_type": "code",
   "execution_count": null,
   "id": "42f6d3ae",
   "metadata": {},
   "outputs": [],
   "source": []
  }
 ],
 "metadata": {
  "kernelspec": {
   "display_name": "Python 3 (ipykernel)",
   "language": "python",
   "name": "python3"
  },
  "language_info": {
   "codemirror_mode": {
    "name": "ipython",
    "version": 3
   },
   "file_extension": ".py",
   "mimetype": "text/x-python",
   "name": "python",
   "nbconvert_exporter": "python",
   "pygments_lexer": "ipython3",
   "version": "3.11.4"
  }
 },
 "nbformat": 4,
 "nbformat_minor": 5
}
